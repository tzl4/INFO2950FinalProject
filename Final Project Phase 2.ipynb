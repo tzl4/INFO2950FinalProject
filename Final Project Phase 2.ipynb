{
 "cells": [
  {
   "cell_type": "markdown",
   "metadata": {},
   "source": [
    "# Data Description"
   ]
  },
  {
   "cell_type": "markdown",
   "metadata": {},
   "source": [
    "## Overview"
   ]
  },
  {
   "cell_type": "markdown",
   "metadata": {},
   "source": [
    "Every year, there are over 85 million taxi rides in New York City, crisscrossing the city with distinctive yellow cabs. Our project seeks to explore the key factors correlated with taxi ridership in NYC. We drew on and combined two sources of data:\n",
    "1. Detailed trip-level data on daily NYC taxi ridership from January to August 2019, obtained from the New York City Taxi and Limousine creation website (https://www1.nyc.gov/site/tlc/about/tlc-trip-record-data.page). The data came in the form of 8 monthly datasets of yellow taxi ridership, each of a large size (7+ million observations, 700+ MB)\n",
    "2. Daily NYC weather data (from Central Park) for January to August 2019, scraped from the National Weather Service website (https://w2.weather.gov/climate/xmacis.php?wfo=okx).\n",
    "\n",
    "Our data was preprocessed by drawing random samples from each of the 8 monthly taxi datasets, concatenating the 8 sample sets into one dataset, before joining it to the NYC weather dataset. Illogical entries (e.g. negative taxi fares) and null values were then dropped, as further explained below.\n"
   ]
  },
  {
   "cell_type": "markdown",
   "metadata": {},
   "source": [
    "## What are the observations (rows) and the attributes (columns)?\n"
   ]
  },
  {
   "cell_type": "code",
   "execution_count": 1,
   "metadata": {},
   "outputs": [],
   "source": [
    "import numpy as np\n",
    "import pandas as pd\n",
    "import seaborn as sns"
   ]
  },
  {
   "cell_type": "code",
   "execution_count": 2,
   "metadata": {},
   "outputs": [
    {
     "name": "stdout",
     "output_type": "stream",
     "text": [
      "<class 'pandas.core.frame.DataFrame'>\n",
      "RangeIndex: 113852 entries, 0 to 113851\n",
      "Data columns (total 29 columns):\n",
      "pickup_datetime          113852 non-null object\n",
      "dropoff_datetime         113852 non-null object\n",
      "PULocationID             113852 non-null int64\n",
      "DOLocationID             113852 non-null int64\n",
      "RatecodeID               113852 non-null float64\n",
      "congestion_surcharge     113852 non-null float64\n",
      "extra                    113852 non-null float64\n",
      "fare_amount              113852 non-null float64\n",
      "improvement_surcharge    113852 non-null float64\n",
      "mta_tax                  113852 non-null float64\n",
      "passenger_count          113852 non-null float64\n",
      "payment_type             113852 non-null float64\n",
      "store_and_fwd_flag       113852 non-null object\n",
      "tip_amount               113852 non-null float64\n",
      "tolls_amount             113852 non-null float64\n",
      "total_amount             113852 non-null float64\n",
      "trip_distance            113852 non-null float64\n",
      "pickup_dayofweek         113852 non-null int64\n",
      "trip_duration_mins       113852 non-null float64\n",
      "date                     113852 non-null object\n",
      "maxtemp                  113852 non-null int64\n",
      "mintemp                  113852 non-null int64\n",
      "avetemp                  113852 non-null float64\n",
      "departuretemp            113852 non-null float64\n",
      "hdd                      113852 non-null int64\n",
      "cdd                      113852 non-null int64\n",
      "precipitation            113852 non-null object\n",
      "newsnow                  113852 non-null object\n",
      "snowdepth                113852 non-null object\n",
      "dtypes: float64(15), int64(7), object(7)\n",
      "memory usage: 25.2+ MB\n"
     ]
    },
    {
     "name": "stderr",
     "output_type": "stream",
     "text": [
      "/Users/josiah/opt/anaconda3/lib/python3.7/site-packages/IPython/core/interactiveshell.py:3058: DtypeWarning: Columns (27,28) have mixed types. Specify dtype option on import or set low_memory=False.\n",
      "  interactivity=interactivity, compiler=compiler, result=result)\n"
     ]
    }
   ],
   "source": [
    "df = pd.read_csv(\"nyc_taxis_weather_jantoaug19s.csv\")\n",
    "df.head()\n",
    "df.info()"
   ]
  },
  {
   "cell_type": "markdown",
   "metadata": {},
   "source": [
    "The observations are unique taxi trips taken on a yellow taxi in NYC. "
   ]
  },
  {
   "cell_type": "code",
   "execution_count": 3,
   "metadata": {},
   "outputs": [
    {
     "data": {
      "text/plain": [
       "['pickup_datetime',\n",
       " 'dropoff_datetime',\n",
       " 'PULocationID',\n",
       " 'DOLocationID',\n",
       " 'RatecodeID',\n",
       " 'congestion_surcharge',\n",
       " 'extra',\n",
       " 'fare_amount',\n",
       " 'improvement_surcharge',\n",
       " 'mta_tax',\n",
       " 'passenger_count',\n",
       " 'payment_type',\n",
       " 'store_and_fwd_flag',\n",
       " 'tip_amount',\n",
       " 'tolls_amount',\n",
       " 'total_amount',\n",
       " 'trip_distance',\n",
       " 'pickup_dayofweek',\n",
       " 'trip_duration_mins',\n",
       " 'date',\n",
       " 'maxtemp',\n",
       " 'mintemp',\n",
       " 'avetemp',\n",
       " 'departuretemp',\n",
       " 'hdd',\n",
       " 'cdd',\n",
       " 'precipitation',\n",
       " 'newsnow',\n",
       " 'snowdepth']"
      ]
     },
     "execution_count": 3,
     "metadata": {},
     "output_type": "execute_result"
    }
   ],
   "source": [
    "list(df.columns)"
   ]
  },
  {
   "cell_type": "markdown",
   "metadata": {},
   "source": [
    "The attributes provide detailed information on various aspects of a taxi ride. These include:\n",
    "\n",
    "- **pickup_datetime/dropoff_datetime:** The date and time when the taximeter is engaged/disengaged in a taxi ride respectively\n",
    "- **PULocationID/DOLocationID:** The Taxi Zone (corresponding to a 263 zones listed on the TLC website) in which the taximeter was engaged/disengaged\n",
    "- **RateCodeID:** The final rate code in effect at the end of the trip.\n",
    " - 1= Standard rate\n",
    " - 2=JFK\n",
    " - 3=Newark\n",
    " - 4=Nassau or Westchester 5=Negotiated fare 6=Group ride\n",
    "- **congestion_surcharge:** \\\\$2.50 surcharge for non-shared trips in taxicabs\n",
    "- **extra:** Miscellaneous extras and surcharges. Currently, this only includes the \\\\$0.50 and \\\\$1 rush hour and overnight charges\n",
    "- **Fare_amount:** The time-and-distance fare calculated by the meter\n",
    "- **improvement_surcharge:** \\\\$0.30 improvement surcharge assessed trips at the flag drop\n",
    "- **mta_tax:** \\\\$0.50 MTA tax that is automatically triggered based on the metered rate in use.\n",
    "- **passenger_count:** Number of passengers in a taxi\n",
    "- **payment_type:** A numeric code signifying how the passenger paid for the trip.\n",
    "  -1 = Credit card \n",
    "  -2 = Cash\n",
    "  -3 = No charge \n",
    "  -4 = Dispute\n",
    "  -5 = Unknown \n",
    "  -6 = Voided trip\n",
    "- **store_and_fwd_flag:** Indicates whether the trip record was held in vehicle memory before sending to the vendor, aka “store and forward,” because the vehicle did not have a connection to the server.\n",
    "- **tip_amount:** Amount of credit card tips. Cash tips are not included.\n",
    "- **total_amount:** The total amount charged to passengers. Does not include cash tips.\n",
    "- **trip_distance:** The elapsed trip distance in miles reported by the taximeter.\n",
    "- **pick-up_dayofweek** _(column created by us)_ **:** The day of week of pick-up, coded from Monday =0 to Sunday =6\n",
    "- **trip_duration_mins** _(column created by us)_ **:** The duration of a trip, computed by finding the time difference between `pickup_datetime` and `dropoff_datetime`\n",
    "- **date**: The data of a taxi ride (used for us to track a successful join with the weather dataset)\n",
    "- **maxtemp:** The daily maximum temperature recorded at Central Park (degrees F)\n",
    "- **mintemp:** The daily minimum temperature recorded at Central Park (degrees F)\n",
    "- **avetemp:** The daily average temperature recorded at Central Park (degrees F)\n",
    "- **departuretemp:** The average temperature departure from normal (degrees F)\n",
    "- **hdd:** Heating degree days recorded at Central Park (base 65)\n",
    "- **cdd:** Cooling degree days recorded at Central Park (base 65)\n",
    "- **precipitation:** The daily precipitation recorded at Central Park (inches)\n",
    "- **newsnow:** The daily new snowfall recorded at Central Park (inches)\n",
    "- **snowdepth:** The daily snow depth recorded at Central Park (inches)"
   ]
  },
  {
   "cell_type": "markdown",
   "metadata": {},
   "source": [
    "## Why was this dataset created?"
   ]
  },
  {
   "cell_type": "markdown",
   "metadata": {},
   "source": [
    "This dataset was created to analyze the potential impact of various factors on taxi ridership in New York City, with particular attention given to weather, time of day, payment method, and location. This dataset also allows for the exploration of potential correlation between different attributes, and seeks to answer questions such as \"How are duration of ride and time of day related?\" \"Are there trends in popular pick up locations in the late-night hours compared to in the morning?\" and \"What is the correlation, if any, between payment method and pick up location?\" Ultimately, this dataset was created to learn more about the trends and patterns that affect the vast network of taxis, as well as taxi riders, across New York City.\n",
    "\n",
    "This data drew on information from two other datasets, a dataset published by the NYC Taxi and Limousine Commission and a dataset published by the National Weather Service. The taxi dataset was created for similar reasons to this dataset: to observe changing trends in taxi ridership across the city and hopefully inform decisions in the industry and improve the overal taxi system. The weather dataset was created for reasons entirely separate from taxi riding and is instead part of a much larger data collection conducted across the country for the purposes of predicting trends in weather and climate, from daily temperatures to natural disasters. "
   ]
  },
  {
   "cell_type": "markdown",
   "metadata": {},
   "source": [
    "## Who funded the creation of the dataset?"
   ]
  },
  {
   "cell_type": "markdown",
   "metadata": {},
   "source": [
    "This dataset did not receive any external funding and was independently compiled from external data sources by students at Cornell University. The raw taxi dataset was collected by various technology providers funded and authorized by the Taxicab & Livery Passenger Enhancement Programs (TPEP/LPEP). The weather dataset was collected from sources at the National Climactic Data Center, a subset of the National Oceanic and Atmospheric Adminstration, which is funded by the United States Department of Commerce. "
   ]
  },
  {
   "cell_type": "markdown",
   "metadata": {},
   "source": [
    "## What processes might have influenced what data was observed and recorded and what was not?"
   ]
  },
  {
   "cell_type": "markdown",
   "metadata": {},
   "source": [
    "### Taxi Dataset\n",
    "\n",
    "In the taxi dataset, the type of data observed and recorded is influenced by concerns of usefulness, measurability and privacy. \n",
    "\n",
    "Certain attributes (such as `Fare_amount`, `PULocationID` and `trip_distance`) are useful as they help TLC assess the health and profitability of the industry it is regulating. TLC may act on those attributes to draft new policies (e.g. enforcing the fare rate in taxis, buying taxi models that are more fuel-efficient for short trips). On the other hand, an attribute like \"\n",
    "\n",
    "Other attributes (such as `store_and_fwd_flag`) are collected just because they are measurable. While the significance of knowing whether a trip record was held in vehicle memory is unclear, the ease of measuring this attribute with taxi sensors likely led to its inclusion in the taxi dataset. The lack of measurability is also why certain useful attributes (such as \"satisfaction rate of customers\" or \"fatigue level of drivers\") are not included in the dataset&mdash;they are simply not measurable with current sensors in taxis.\n",
    "\n",
    "Privacy concerns limit both what attributes can be observed and the granularity of observations. For instance, due to privacy laws, we cannot record attributes like \"passenger age\" or \"passenger occupation\", no matter how useful/measurable those attributes might be. Also, we can only observe pick-up/drop-off location data as coded into general zones (LocationIDs), rather than in a more granular form such as \"pick-up/drop-off address\". "
   ]
  },
  {
   "cell_type": "markdown",
   "metadata": {},
   "source": [
    "### Weather Dataset\n",
    "\n",
    "In the weather dataset, the type of data observed and recorded influenced by comparability and measurability. \n",
    "\n",
    "Given that weather data is often aggregated and averaged by region (e.g. NYC), and compared among regions (e.g. NYC vs Boston), the type of data observed is determined by its suitability for comparison. Due to this focus on comparability, the attributes observed (e.g. `maxtemp`, `mintemp`, `precipitation`) are very standard across weather stations in the US, and they are measured in standard units (e.g. F, inches). \n",
    "\n",
    "Measurability is a key factor as niche equipment is needed to observe various aspects of weather precisely. In Central Park, weather data is collected by an automated weather station on Belvedere Castle. The attributes that are observed are based on what can be reliably measured by an automated system with little human oversight. "
   ]
  },
  {
   "cell_type": "markdown",
   "metadata": {},
   "source": [
    "## What preprocessing was done, and how did the data come to be in the form that you are using?"
   ]
  },
  {
   "cell_type": "markdown",
   "metadata": {},
   "source": [
    "### Step 1: Data Collection and Concatenation\n",
    "\n",
    "- The 8 monthly taxi datasets were downloaded from the TLC website, constituting 57,080,500 taxi trips and 5.2GB of data in all. For each month, a random sample of 2% of observations was drawn, adding up to around 14,200 taxi trips per month. Each random sample was screened using _Series.unique( )_ to ensure that there was there was an even distribution of days in the month. \n",
    "- The 8 samples were concatenated into a single taxi dataset (\"taxis_jantoaug19s.csv\") that contained 114,161 taxi trips from January to August 2019. \n",
    "- The NYC (Central Park) weather dataset from January to August 2019 was scraped from the National Weather Service website and saved as \"nyc_weather_jantoaug19.csv\"."
   ]
  },
  {
   "cell_type": "markdown",
   "metadata": {},
   "source": [
    "### Step 2: Data Cleaning\n",
    "\n",
    "- Irregularities in \"taxis_jantoaug19s.csv\" were detected and fixed. In particular, 7 entries with `pickup_datetime` or `dropoff_datetime` correponding to non-2019 years were deleted, and 189 entries with negative `fare_amount`,`total_amount` or `congestion_surcharge` values were deleted. \n",
    "- The `VendorID` attribute was dropped due to its limited relevance. \n",
    "- 118 null values across 5 attributes&mdash;`RatecodeID`, `VendorID`, `passenger_count`, `payment_type` and `store_and_fwd_flag`&mdash;were dropped.\n",
    "- The `pickup_dayofweek` attribute was created by applying _Series.dt.dayofweek_ to `pickup_datetime`.\n",
    "- The `trip_duration_mins` attribute was created by finding the difference between `dropoff_datetime` and `pickup_datetime`, before dividing that by _np.timedelta64(1,'m')_."
   ]
  },
  {
   "cell_type": "markdown",
   "metadata": {},
   "source": [
    "### Step 3: Data Integration\n",
    "\n",
    "- The taxi and weather datasets were combined by left-joining \"taxis_jantoaug19s.csv\" to to \"nyc_weather_jantoaug19.csv\" on `pd.to_datetime(df_taxis[\"pickup_datetime\"]).dt.date`=`pd.to_datetime(df_weather['date']).dt.date`\n",
    "- The `pickup_datetime` and `date` fields in the joined dataset were checked to ensure a successful join. The joined dataset, containing 113852 taxi rides, was saved as \"nyc_taxis_weather_jantoaug19s.csv\". "
   ]
  },
  {
   "cell_type": "markdown",
   "metadata": {},
   "source": [
    "## If people are involved, were they aware of the data collection and if so, what purpose did they expect the data to be used for?\n",
    "\n"
   ]
  },
  {
   "cell_type": "markdown",
   "metadata": {},
   "source": [
    "No personal information or data was collected from individuals in the creation of the weather dataset or the taxi dataset. Although the taxi dataset indirectly involves people as taxi riders, who may not have been made aware that information about their ride would be recorded, the dataset has nothing to do with the individuals as people and focuses instead on information pertaining to the taxi ride itself, as collected and recorded by taxi companies. "
   ]
  },
  {
   "cell_type": "markdown",
   "metadata": {},
   "source": [
    "## Where can your raw source data be found, if applicable? Provide a link to the raw data (hosted in a Cornell Google Drive or Cornell Box). \n"
   ]
  },
  {
   "cell_type": "markdown",
   "metadata": {},
   "source": [
    "# Potential Problems with Dataset"
   ]
  },
  {
   "cell_type": "markdown",
   "metadata": {},
   "source": [
    "The potential problems that we foresee are minor irregularities in the data (e.g. an impossibly large `trip_distance` for a certain `fare_amount`, or an `extra` being levied for a non-rush-hour time). More obvious irregularities, such as negative fare amounts and non-2019 trips, have already been detected and removed, along with any null values in the data. Based on my preprocessing efforts thus far, the incidence of obvious irregularities in the data is low (~300 glaring irregularities for 114,000+ entries, or a 0.2% rate). They all appear to be errors in data entry (perhaps due to human error / bugs in electronic data transmission) rather than systemic issues in data collection. \n",
    "\n",
    "Hence, we are optimistic that we will not encounter major issues while processing and analyzing our dataset. However, we will maintain a healthy sense of scepticism while performing Exploratory Data Analysis, and investigate/resolve any potential errors in the data that we encounter. "
   ]
  }
 ],
 "metadata": {
  "kernelspec": {
   "display_name": "Python 3",
   "language": "python",
   "name": "python3"
  },
  "language_info": {
   "codemirror_mode": {
    "name": "ipython",
    "version": 3
   },
   "file_extension": ".py",
   "mimetype": "text/x-python",
   "name": "python",
   "nbconvert_exporter": "python",
   "pygments_lexer": "ipython3",
   "version": "3.7.4"
  }
 },
 "nbformat": 4,
 "nbformat_minor": 2
}
